{
 "cells": [
  {
   "cell_type": "markdown",
   "metadata": {},
   "source": [
    "# Movies 3"
   ]
  },
  {
   "cell_type": "markdown",
   "metadata": {},
   "source": [
    "## Introduction\n",
    "\n",
    "Une base de données (hébergée dans le cloud AWS) contenant un certain nombre de données cinématographiques vous est fournie pour exploration et mise en pratique des langages SQL et Python.  \n",
    "Les données de connexion (user, host) sont indiquées dans le brief, le mot de passe nécessaire est précisé en session par le formateur.  \n"
   ]
  },
  {
   "cell_type": "markdown",
   "metadata": {},
   "source": [
    "## 1. Description Générale\n",
    "\n",
    "En utilisant DBeaver et les paramètres de connexion donnés par ailleurs, faire une description détaillée de la base de données fournie. Présenter notamment le diagramme entité - relation (ERD) et les différentes caractéristiques des tables de la base.  Quelles types de renseignement peut-on tirer de cette base de données ?   "
   ]
  },
  {
   "cell_type": "markdown",
   "metadata": {},
   "source": [
    "Nous disposons de 4 tables: \n",
    "\n",
    "1) movies:\n",
    "\n",
    "\n",
    "`id`:integer définit comme Primary Key (int)\n",
    "\n",
    "`title`:varchar(80)\n",
    "\n",
    "`year`:integer (int)\n",
    "\n",
    "`directorID`: integer définit comme foreign key (table reférenece artists id)\n",
    "\n",
    "`genre`: varchar(20)\n",
    "\n",
    "`summary`:Text\n",
    "\n",
    "`countrycode`:Varchar(4) définit comme foreign key (table reférence countries code)\n",
    "\n",
    "2) roles:\n",
    "\n",
    "`movieId`:integer définit comme Primary Key et aussi Foreign Key (table reférence movies id) (int)\n",
    "\n",
    "`actorId`:integer définit comme Primary Key et aussi Foreign Key (table reférence artists id) (int)\n",
    "\n",
    "`character`:varchar(255)\n",
    "\n",
    "3) artists:\n",
    "\n",
    "\n",
    "\n",
    "`id`:integer définit comme Primary Key (reférence à la colonne actorId de la table roles et directorId table movies) (int)\n",
    "\n",
    "`lastname`:varchar(30)\n",
    "\n",
    "`firstname`:varchar(30)\n",
    "\n",
    "`birthyear`:integer(int)\n",
    "\n",
    "4) countries:\n",
    "\n",
    "`code`:varchar(4) définit comme Primary Key (reférenece à la colonne countrycode de la table movies)\n",
    "\n",
    "`name`:varchar(30)\n",
    "\n",
    "`language`:varchar(30)"
   ]
  },
  {
   "cell_type": "markdown",
   "metadata": {},
   "source": [
    "---\n",
    "\n",
    "## 2. Exploration SQL via python / pandas\n",
    "Dans cette partie, on s'attache à explorer la base de données en utilisant le language SQL pour les requêtes et le language Python (+ module pandas) pour récupérer les résultats de façon programmatique.  \n",
    "Vous pouvez utiliser DBeaver ou outil similaire pour préparer / tester vos requêtes mais celles-ci doivent être reportées et appliquées dans du code Python comme présenté dans les quelques examples à suivre.  \n",
    "*Pour les résultats \"longs\", un aperçu des quelques premières lignes et le comptage total des résultats est suffisant.*"
   ]
  },
  {
   "cell_type": "code",
   "execution_count": null,
   "metadata": {},
   "outputs": [],
   "source": [
    "import os\n",
    "import pandas as pd"
   ]
  },
  {
   "cell_type": "code",
   "execution_count": null,
   "metadata": {},
   "outputs": [],
   "source": [
    "from sqlalchemy import create_engine\n",
    "import pymysql"
   ]
  },
  {
   "cell_type": "code",
   "execution_count": null,
   "metadata": {},
   "outputs": [],
   "source": [
    "# paramètres de connexion à la base de données movies (MySQL sous AWS RDS)\n",
    "user = os.environ.get('movies3_user')\n",
    "password = os.environ.get('movies3_psw') \n",
    "host = os.environ.get('movies3_host')  \n",
    "port = 3306\n",
    "dbname = 'movies'  \n",
    "\n",
    "engine = create_engine(f\"mysql+pymysql://{user}:{password}@{host}:{port}/{dbname}\")"
   ]
  },
  {
   "cell_type": "markdown",
   "metadata": {},
   "source": [
    "### Exemples"
   ]
  },
  {
   "cell_type": "code",
   "execution_count": null,
   "metadata": {},
   "outputs": [],
   "source": [
    "print(user)"
   ]
  },
  {
   "cell_type": "markdown",
   "metadata": {},
   "source": [
    "#### Tables de base"
   ]
  },
  {
   "cell_type": "code",
   "execution_count": null,
   "metadata": {},
   "outputs": [],
   "source": [
    "movies = pd.read_sql_query(\"SELECT * FROM movies LIMIT 10\", engine)\n",
    "movies.head()"
   ]
  },
  {
   "cell_type": "code",
   "execution_count": null,
   "metadata": {},
   "outputs": [],
   "source": [
    "artists = pd.read_sql_query(\"SELECT * FROM artists LIMIT 10\", engine)\n",
    "artists.head()"
   ]
  },
  {
   "cell_type": "code",
   "execution_count": null,
   "metadata": {},
   "outputs": [],
   "source": [
    "roles = pd.read_sql_query(\"SELECT * FROM roles LIMIT 10\", engine)\n",
    "roles.head()"
   ]
  },
  {
   "cell_type": "code",
   "execution_count": null,
   "metadata": {},
   "outputs": [],
   "source": [
    "countries = pd.read_sql_query(\"SELECT * FROM countries LIMIT 10\", engine)\n",
    "countries.head()"
   ]
  },
  {
   "cell_type": "markdown",
   "metadata": {},
   "source": [
    "#### Autre requête simple\n",
    "Q00: Nom et année de naissance des artistes nés après 1975 ? Combien sont-ils ?"
   ]
  },
  {
   "cell_type": "code",
   "execution_count": null,
   "metadata": {},
   "outputs": [],
   "source": [
    "sql_query_00 = \"\"\"\n",
    "    SELECT *\n",
    "    FROM artists\n",
    "    WHERE birthyear > 1975\n",
    "\"\"\"\n",
    "\n",
    "results = pd.read_sql_query(sql_query_00, engine)\n",
    "results.head(5)"
   ]
  },
  {
   "cell_type": "code",
   "execution_count": null,
   "metadata": {},
   "outputs": [],
   "source": [
    "results.shape"
   ]
  },
  {
   "cell_type": "code",
   "execution_count": null,
   "metadata": {},
   "outputs": [],
   "source": [
    "len(results)"
   ]
  },
  {
   "cell_type": "markdown",
   "metadata": {},
   "source": [
    "### Questions"
   ]
  },
  {
   "cell_type": "markdown",
   "metadata": {},
   "source": [
    "Q01: Quels sont les films de type 'Drame' ? Combien cela représente de films ?  "
   ]
  },
  {
   "cell_type": "code",
   "execution_count": null,
   "metadata": {},
   "outputs": [],
   "source": [
    "sql_query_01 = \"\"\"\n",
    "    SELECT genre as \"genre\", title as \"titre du film\", count(tilte)\n",
    "    FROM movies\n",
    "    WHERE genre ='Drame'\n",
    "\"\"\"\n",
    "\n",
    "results = pd.read_sql_query(sql_query_01, engine)\n",
    "results.head()"
   ]
  },
  {
   "cell_type": "code",
   "execution_count": null,
   "metadata": {},
   "outputs": [],
   "source": [
    "len(results)"
   ]
  },
  {
   "cell_type": "markdown",
   "metadata": {},
   "source": [
    "Q02: Quels rôles a joué Bruce Willis et dans quels films (triés par ordre chronologique) ?"
   ]
  },
  {
   "cell_type": "code",
   "execution_count": null,
   "metadata": {},
   "outputs": [],
   "source": [
    "sql_query_02 = \"\"\"\n",
    "    SELECT title AS \"Titre\", year AS \"Année\", roles.character AS \"Rôle\", lastname AS \"Nom\", firstname AS \"Prénom\"\n",
    "    FROM movies\n",
    "    INNER JOIN roles ON movies.id = roles.movieId\n",
    "    INNER JOIN artists ON roles.actorId = artists.id\n",
    "    WHERE lastname = \"Willis\" AND firstname = \"Bruce\"\n",
    "    ORDER BY year;\n",
    "\"\"\"\n",
    "\n",
    "results = pd.read_sql_query(sql_query_02, engine)\n",
    "results.head(5)"
   ]
  },
  {
   "cell_type": "markdown",
   "metadata": {},
   "source": [
    "Q03: Qui est le réalisateur de Memento ?"
   ]
  },
  {
   "cell_type": "code",
   "execution_count": null,
   "metadata": {},
   "outputs": [],
   "source": [
    "sql_query_03 = \"\"\"\n",
    "    SELECT movies.title as \"Titre du film\", artists.id as \"ID artiste\", artists.lastname as \"Nom\", artists.firstname as \"Prénom\"\n",
    "    FROM artists\n",
    "    LEFT JOIN movies ON artists.id = movies.directorId\n",
    "    WHERE artists.id = 525 AND movies.title = \"Memento\";\n",
    "\"\"\"\n",
    "\n",
    "results = pd.read_sql_query(sql_query_03, engine)\n",
    "results.head(5)"
   ]
  },
  {
   "cell_type": "markdown",
   "metadata": {},
   "source": [
    "Q04: Qui a joué le rôle de Chewbacca et dans quels films ?"
   ]
  },
  {
   "cell_type": "code",
   "execution_count": null,
   "metadata": {},
   "outputs": [],
   "source": [
    "sql_query_04 = \"\"\"\n",
    "    SELECT title AS \"Titre\", roles.character AS \"Rôle\", lastname AS \"Nom\", firstname AS \"Prénom\"\n",
    "    FROM roles\n",
    "    INNER JOIN artists ON roles.actorId = artists.id\n",
    "    INNER JOIN movies ON roles.movieId = movies.id\n",
    "    WHERE roles.character = \"Chewbacca\";\n",
    "\"\"\"\n",
    "\n",
    "results = pd.read_sql_query(sql_query_04, engine)\n",
    "results.head()"
   ]
  },
  {
   "cell_type": "markdown",
   "metadata": {},
   "source": [
    "Q05: Dans quels films Bruce Willis a-t-il joué le role de John McClane ? "
   ]
  },
  {
   "cell_type": "code",
   "execution_count": null,
   "metadata": {},
   "outputs": [],
   "source": [
    "sql_query_05 = \"\"\"\n",
    "    SELECT title as \"Titre des films\", lastname as \"Nom\", firstname as \"Prénoms\", roles.character as \"Nom du personnage\"\n",
    "    FROM movies\n",
    "    INNER JOIN roles ON movies.id = roles.movieId\n",
    "    INNER JOIN artists ON roles.actorId = artists.id\n",
    "    WHERE lastname = \"Willis\" AND firstname = \"Bruce\" AND     \n",
    "    roles.character = \"John McClane\"\n",
    "\"\"\"\n",
    "\n",
    "results = pd.read_sql_query(sql_query_05, engine)\n",
    "results.head(5)"
   ]
  },
  {
   "cell_type": "markdown",
   "metadata": {},
   "source": [
    "Q06: Quels sont les acteurs de 'Sueurs froides' ?"
   ]
  },
  {
   "cell_type": "code",
   "execution_count": null,
   "metadata": {},
   "outputs": [],
   "source": [
    "sql_query_06 = \"\"\"\n",
    "    SELECT title AS \"Titre\", lastname AS \"Nom\", firstname AS \"Prénom\", roles.character AS \"Rôle\"\n",
    "    FROM movies\n",
    "    INNER JOIN roles ON movies.id = roles.movieId\n",
    "    INNER JOIN artists ON roles.actorId = artists.id\n",
    "    WHERE title = \"Sueurs froides\";\n",
    "\"\"\"\n",
    "\n",
    "results = pd.read_sql_query(sql_query_06, engine)\n",
    "results.head()"
   ]
  },
  {
   "cell_type": "markdown",
   "metadata": {},
   "source": [
    "Q07: Quels sont les films dont le réalisateur est Tim Burton, et l’un des acteurs Jonnhy Depp ?"
   ]
  },
  {
   "cell_type": "code",
   "execution_count": null,
   "metadata": {},
   "outputs": [],
   "source": [
    "sql_query_07 = \"\"\"\n",
    "    SELECT title as \"Titre du film\"\n",
    "        FROM movies\n",
    "        INNER JOIN artists ON movies.directorId = artists.id\n",
    "        WHERE lastname = \"Burton\"\n",
    "    UNION\n",
    "    SELECT title\n",
    "        FROM movies\n",
    "        INNER JOIN roles ON movies.id = roles.movieId\n",
    "        INNER JOIN artists ON roles.actorId = artists.id\n",
    "        WHERE lastname = \"Depp\"\n",
    "\"\"\"\n",
    "\n",
    "results = pd.read_sql_query(sql_query_07, engine)\n",
    "results.head()"
   ]
  },
  {
   "cell_type": "markdown",
   "metadata": {},
   "source": [
    "Q08: Quels sont les films dans lesquels a joué Woody Allen ? Donnez aussi le rôle."
   ]
  },
  {
   "cell_type": "code",
   "execution_count": null,
   "metadata": {},
   "outputs": [],
   "source": [
    "sql_query_08 = \"\"\"\n",
    "    SELECT title AS \"Titre\", lastname AS \"Nom\", firstname AS \"Prénom\", roles.character AS \"Rôle\"\n",
    "    FROM movies\n",
    "    INNER JOIN roles ON movies.id = roles.movieId\n",
    "    INNER JOIN artists ON roles.actorId = artists.id\n",
    "    WHERE lastname = \"Allen\" AND firstname = \"Woody\"\n",
    "\"\"\"\n",
    "\n",
    "results = pd.read_sql_query(sql_query_08, engine)\n",
    "results.head()"
   ]
  },
  {
   "cell_type": "markdown",
   "metadata": {},
   "source": [
    "Q09: Quel metteur en scène a tourné dans ses propres films ? Donnez le nom, le rôle et le titre des films en question."
   ]
  },
  {
   "cell_type": "code",
   "execution_count": null,
   "metadata": {},
   "outputs": [],
   "source": [
    "sql_query_09 = \"\"\"\n",
    "    SELECT lastname AS \"Nom\", firstname AS \"Prénom\", title AS \"Titre\", roles.character AS \"Rôle\"\n",
    "    FROM movies\n",
    "    INNER JOIN roles ON movies.id = roles.movieId\n",
    "    INNER JOIN artists ON roles.actorId = artists.id\n",
    "    WHERE movies.directorId = roles.actorId;\n",
    "\"\"\"\n",
    "\n",
    "results = pd.read_sql_query(sql_query_09, engine)\n",
    "results.head()"
   ]
  },
  {
   "cell_type": "markdown",
   "metadata": {},
   "source": [
    "Q10: Quels sont les films de Quentin Tarantino dans lesquels il n’a pas joué "
   ]
  },
  {
   "cell_type": "code",
   "execution_count": null,
   "metadata": {},
   "outputs": [],
   "source": [
    "sql_query_10 = \"\"\"\n",
    "    SELECT a.title as \"Titre des films\"\n",
    "      FROM movies AS a\n",
    "      INNER JOIN artists ON a.directorId = artists.id\n",
    "      WHERE lastname = \"Tarantino\"\n",
    "      AND title NOT IN (\n",
    "        SELECT b.title \n",
    "        FROM movies AS b\n",
    "        INNER JOIN roles ON b.id = roles.movieId\n",
    "        INNER JOIN artists ON roles.actorId = artists.id\n",
    "        WHERE lastname = \"Tarantino\")\n",
    "\"\"\"\n",
    "\n",
    "results = pd.read_sql_query(sql_query_10, engine)\n",
    "results.head()"
   ]
  },
  {
   "cell_type": "markdown",
   "metadata": {},
   "source": [
    "Q11: Quel metteur en scène a tourné en tant qu’acteur ? Donner le nom, le rôle et le titre des films dans lesquels cet artiste a joué."
   ]
  },
  {
   "cell_type": "code",
   "execution_count": null,
   "metadata": {},
   "outputs": [],
   "source": [
    "sql_query_11 = \"\"\"\n",
    "    SELECT lastname as \"Nom\", roles.character as \"Role\", title as \"Titre du film\", roles.actorId as \"ID Acteur\", movies.directorId as \"ID Metteur en scène\" \n",
    "    FROM movies\n",
    "    INNER JOIN artists ON movies.directorId = artists.id\n",
    "    INNER JOIN roles ON movies.id = roles.movieId\n",
    "    WHERE movies.directorId = roles.actorId;\n",
    "\"\"\"\n",
    "\n",
    "results = pd.read_sql_query(sql_query_11, engine)\n",
    "results.head()"
   ]
  },
  {
   "cell_type": "markdown",
   "metadata": {},
   "source": [
    "Q12: Quels sont les films de Hitchcock sans James Stewart"
   ]
  },
  {
   "cell_type": "code",
   "execution_count": null,
   "metadata": {},
   "outputs": [],
   "source": [
    "sql_query_12 = \"\"\"\n",
    "    SELECT a.title as \"Titre des films\"\n",
    "    FROM movies AS a\n",
    "    INNER JOIN artists ON a.directorId = artists.id\n",
    "    WHERE lastname = \"Hitchcock\"\n",
    "    AND title NOT IN (\n",
    "      SELECT b.title \n",
    "      FROM movies AS b\n",
    "      INNER JOIN roles ON b.id = roles.movieId\n",
    "      INNER JOIN artists ON roles.actorId = artists.id\n",
    "      WHERE lastname = \"Stewart\")\n",
    "\"\"\"\n",
    "\n",
    "results = pd.read_sql_query(sql_query_12, engine)\n",
    "results.head()"
   ]
  },
  {
   "cell_type": "markdown",
   "metadata": {},
   "source": [
    "Q13: Quel est la filmographie de James Stewart ?"
   ]
  },
  {
   "cell_type": "code",
   "execution_count": null,
   "metadata": {},
   "outputs": [],
   "source": [
    "sql_query_13 = \"\"\"\n",
    "    SELECT lastname as \"Nom\", firstname as \"Prénom\", title AS \"Titre\"\n",
    "    FROM movies\n",
    "    INNER JOIN roles ON movies.id = roles.movieId\n",
    "    INNER JOIN artists ON roles.actorId = artists.id\n",
    "    WHERE lastname = \"Stewart\" AND firstname = \"James\";\n",
    "\"\"\"\n",
    "\n",
    "results = pd.read_sql_query(sql_query_13, engine)\n",
    "results.head()"
   ]
  },
  {
   "cell_type": "markdown",
   "metadata": {},
   "source": [
    "Q14: Quels sont les films sans rôle (acteurs) ?"
   ]
  },
  {
   "cell_type": "code",
   "execution_count": null,
   "metadata": {},
   "outputs": [],
   "source": []
  },
  {
   "cell_type": "markdown",
   "metadata": {},
   "source": [
    "Q15: Combien d'acteurs n’ont jamais réalisé de film ? "
   ]
  },
  {
   "cell_type": "code",
   "execution_count": null,
   "metadata": {},
   "outputs": [],
   "source": [
    "sql_query_15 = \"\"\"\n",
    "    SELECT DISTINCT artists.id AS \"id\", lastname as \"Nom\", firstname AS \"Prénom\"\n",
    "    FROM movies\n",
    "    INNER JOIN roles ON movies.id = roles.movieId\n",
    "    INNER JOIN artists ON roles.actorId = artists.id\n",
    "    WHERE artists.id NOT IN (\n",
    "      SELECT DISTINCT artists.id\n",
    "      FROM movies\n",
    "      INNER JOIN artists ON movies.directorId = artists.id)\n",
    "    ORDER BY artists.id;\n",
    "\"\"\"\n",
    "\n",
    "results = pd.read_sql_query(sql_query_15, engine)\n",
    "results.head()"
   ]
  },
  {
   "cell_type": "markdown",
   "metadata": {},
   "source": [
    "Q16: Donnez les noms et prénoms des 10 réalisateurs les plus prolifiques, ainsi que le nombre de films qu’ils ont tournés ?"
   ]
  },
  {
   "cell_type": "code",
   "execution_count": null,
   "metadata": {},
   "outputs": [],
   "source": []
  },
  {
   "cell_type": "markdown",
   "metadata": {},
   "source": [
    "Q17: Donnez les noms et prénoms des réalisateurs qui ont tourné au moins deux films. Combien sont-ils ?"
   ]
  },
  {
   "cell_type": "code",
   "execution_count": null,
   "metadata": {},
   "outputs": [],
   "source": []
  },
  {
   "cell_type": "markdown",
   "metadata": {},
   "source": [
    "Q18: Dans quels films le réalisateur a-t-il le même prénom que l’un des interprètes ? (titre, nom du réalisateur, nom de l’interprète). Le réalisateur et l’interprète ne doivent pas être la même personne."
   ]
  },
  {
   "cell_type": "code",
   "execution_count": null,
   "metadata": {},
   "outputs": [],
   "source": []
  },
  {
   "cell_type": "markdown",
   "metadata": {},
   "source": [
    "Q19: Quels sont les 10 pays produisant le plus de films ?"
   ]
  },
  {
   "cell_type": "code",
   "execution_count": null,
   "metadata": {},
   "outputs": [],
   "source": []
  },
  {
   "cell_type": "markdown",
   "metadata": {},
   "source": [
    "Q20: Quels sont les 5 acteurs ayant le plus joué dans des films français ?"
   ]
  },
  {
   "cell_type": "code",
   "execution_count": null,
   "metadata": {},
   "outputs": [],
   "source": []
  },
  {
   "cell_type": "markdown",
   "metadata": {},
   "source": [
    "---\n",
    "\n",
    "## 3. Expression libre\n",
    "\n",
    "A vous de jouer ! Tentez quelques requêtes de votre choix (avec pourquoi pas quelques graphiques illustratifs en utilisant Matplotlib...)"
   ]
  },
  {
   "cell_type": "code",
   "execution_count": null,
   "metadata": {},
   "outputs": [],
   "source": []
  },
  {
   "cell_type": "code",
   "execution_count": null,
   "metadata": {},
   "outputs": [],
   "source": []
  },
  {
   "cell_type": "code",
   "execution_count": null,
   "metadata": {},
   "outputs": [],
   "source": []
  }
 ],
 "metadata": {
  "kernelspec": {
   "display_name": "Python 3",
   "language": "python",
   "name": "python3"
  },
  "language_info": {
   "codemirror_mode": {
    "name": "ipython",
    "version": 3
   },
   "file_extension": ".py",
   "mimetype": "text/x-python",
   "name": "python",
   "nbconvert_exporter": "python",
   "pygments_lexer": "ipython3",
   "version": "3.8.6"
  }
 },
 "nbformat": 4,
 "nbformat_minor": 4
}
